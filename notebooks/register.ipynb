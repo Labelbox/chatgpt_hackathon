{
  "nbformat": 4,
  "nbformat_minor": 0,
  "metadata": {
    "colab": {
      "provenance": []
    },
    "kernelspec": {
      "name": "python3",
      "display_name": "Python 3"
    },
    "language_info": {
      "name": "python"
    }
  },
  "cells": [
    {
      "cell_type": "markdown",
      "source": [
        "<td>\n",
        "   <a target=\"_blank\" href=\"https://labelbox.com\" ><img src=\"https://labelbox.com/blog/content/images/2021/02/logo-v4.svg\" width=256/></a>\n",
        "</td>"
      ],
      "metadata": {
        "id": "UvcdXGghTNDq"
      }
    },
    {
      "cell_type": "markdown",
      "source": [
        "<td>\n",
        "<a href=\"https://colab.research.google.com/drive/1lKEENBtcj4vVzuWmYtX_qaRplbxI9TGf\" target=\"_blank\"><img\n",
        "src=\"https://colab.research.google.com/assets/colab-badge.svg\" alt=\"Open In Colab\"></a>\n",
        "</td>\n",
        "\n",
        "<td>\n",
        "<a href=\"https://github.com/Labelbox/chatgpt_hackathon/blob/main/notebooks/register-team.ipynb\" target=\"_blank\"><img\n",
        "src=\"https://img.shields.io/badge/GitHub-100000?logo=github&logoColor=white\" alt=\"GitHub\"></a>\n",
        "</td>"
      ],
      "metadata": {
        "id": "2whKwDTbUING"
      }
    },
    {
      "cell_type": "markdown",
      "source": [
        "# _**Register a Team for the Notre Dame <> Labelbox ChatGPT Hackathon**_"
      ],
      "metadata": {
        "id": "VBp5wqdoTWEf"
      }
    },
    {
      "cell_type": "markdown",
      "source": [
        "Install Hackathon Python Library"
      ],
      "metadata": {
        "id": "VWK0L3zDTegX"
      }
    },
    {
      "cell_type": "code",
      "execution_count": null,
      "metadata": {
        "id": "qUdoKIuwXn9z",
        "colab": {
          "base_uri": "https://localhost:8080/"
        },
        "outputId": "704d0233-0398-4175-adaf-8bda208e4cf8"
      },
      "outputs": [
        {
          "output_type": "stream",
          "name": "stdout",
          "text": [
            "  Preparing metadata (setup.py) ... \u001b[?25l\u001b[?25hdone\n",
            "\u001b[2K     \u001b[90m━━━━━━━━━━━━━━━━━━━━━━━━━━━━━━━━━━━━━━━\u001b[0m \u001b[32m190.5/190.5 KB\u001b[0m \u001b[31m4.8 MB/s\u001b[0m eta \u001b[36m0:00:00\u001b[0m\n",
            "\u001b[2K     \u001b[90m━━━━━━━━━━━━━━━━━━━━━━━━━━━━━━━━━━━━━━━━\u001b[0m \u001b[32m55.5/55.5 KB\u001b[0m \u001b[31m3.8 MB/s\u001b[0m eta \u001b[36m0:00:00\u001b[0m\n",
            "\u001b[?25h  Installing build dependencies ... \u001b[?25l\u001b[?25hdone\n",
            "  Getting requirements to build wheel ... \u001b[?25l\u001b[?25hdone\n",
            "  Installing backend dependencies ... \u001b[?25l\u001b[?25hdone\n",
            "  Preparing metadata (pyproject.toml) ... \u001b[?25l\u001b[?25hdone\n",
            "  Preparing metadata (setup.py) ... \u001b[?25l\u001b[?25hdone\n",
            "\u001b[2K     \u001b[90m━━━━━━━━━━━━━━━━━━━━━━━━━━━━━━━━━━━━━━━━\u001b[0m \u001b[32m7.8/7.8 MB\u001b[0m \u001b[31m107.4 MB/s\u001b[0m eta \u001b[36m0:00:00\u001b[0m\n",
            "\u001b[?25h  Building wheel for chatgpt-hackathon (setup.py) ... \u001b[?25l\u001b[?25hdone\n",
            "  Building wheel for openai (pyproject.toml) ... \u001b[?25l\u001b[?25hdone\n",
            "  Building wheel for pygeotile (setup.py) ... \u001b[?25l\u001b[?25hdone\n"
          ]
        }
      ],
      "source": [
        "!pip install git+https://github.com/Labelbox/chatgpt_hackathon.git -q"
      ]
    },
    {
      "cell_type": "code",
      "source": [
        "import labelbox as lb\n",
        "from chatgpt_hackathon import register_team"
      ],
      "metadata": {
        "id": "gUoz5fcUXrgN"
      },
      "execution_count": null,
      "outputs": []
    },
    {
      "cell_type": "markdown",
      "source": [
        "Provide a Labelbox API Key and your Team Name\n",
        "\n",
        "[Here's how to create a Labelbox API key from your Labelbox account](https://docs.labelbox.com/reference/create-api-key)"
      ],
      "metadata": {
        "id": "Sm-HILNrThHB"
      }
    },
    {
      "cell_type": "code",
      "source": [
        "api_key = \"\"\n",
        "team_name = \"\""
      ],
      "metadata": {
        "id": "Zqzw0sohXtAJ"
      },
      "execution_count": null,
      "outputs": []
    },
    {
      "cell_type": "markdown",
      "source": [
        "Configure your API key"
      ],
      "metadata": {
        "id": "QeRcMB9ZToZV"
      }
    },
    {
      "cell_type": "code",
      "source": [
        "client = lb.Client(api_key)"
      ],
      "metadata": {
        "id": "NUyBVJDcXuem"
      },
      "execution_count": null,
      "outputs": []
    },
    {
      "cell_type": "markdown",
      "source": [
        "Register!"
      ],
      "metadata": {
        "id": "FUl9ae7vTtAz"
      }
    },
    {
      "cell_type": "code",
      "source": [
        "register_team(client, team_name)"
      ],
      "metadata": {
        "colab": {
          "base_uri": "https://localhost:8080/"
        },
        "id": "jRSfPZSsBMVm",
        "outputId": "48401aa5-84bb-45ac-b069-bb594d459b36"
      },
      "execution_count": null,
      "outputs": [
        {
          "output_type": "stream",
          "name": "stdout",
          "text": [
            "Team team-raphael has registered a Labelbox Model and Project - good luck!\n"
          ]
        }
      ]
    }
  ]
}
