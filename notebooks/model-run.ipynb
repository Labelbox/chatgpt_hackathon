{
  "nbformat": 4,
  "nbformat_minor": 0,
  "metadata": {
    "colab": {
      "provenance": []
    },
    "kernelspec": {
      "name": "python3",
      "display_name": "Python 3"
    },
    "language_info": {
      "name": "python"
    }
  },
  "cells": [
    {
      "cell_type": "markdown",
      "source": [
        "<td>\n",
        "   <a target=\"_blank\" href=\"https://labelbox.com\" ><img src=\"https://labelbox.com/blog/content/images/2021/02/logo-v4.svg\" width=256/></a>\n",
        "</td>"
      ],
      "metadata": {
        "id": "AFBUaVV_YvuP"
      }
    },
    {
      "cell_type": "markdown",
      "source": [
        "<td>\n",
        "<a href=\"https://colab.research.google.com/drive/1JHlGlkLlVeL0mXmBrpp9z423vkdTYr5W\" target=\"_blank\"><img\n",
        "src=\"https://colab.research.google.com/assets/colab-badge.svg\" alt=\"Open In Colab\"></a>\n",
        "</td>\n",
        "\n",
        "<td>\n",
        "<a href=\"https://github.com/Labelbox/chatgpt_hackathon/blob/main/notebooks/model-run.ipynb\" target=\"_blank\"><img\n",
        "src=\"https://img.shields.io/badge/GitHub-100000?logo=github&logoColor=white\" alt=\"GitHub\"></a>\n",
        "</td>"
      ],
      "metadata": {
        "id": "cDNsx4iiU4Xt"
      }
    },
    {
      "cell_type": "markdown",
      "source": [
        "# _**Create a Model Run for the Notre Dame <> Labelbox ChatGPT Hackathon**_"
      ],
      "metadata": {
        "id": "nnSHLGGHVAhF"
      }
    },
    {
      "cell_type": "markdown",
      "source": [
        "Install Hackathon Python Library"
      ],
      "metadata": {
        "id": "BevJyK-JVF-8"
      }
    },
    {
      "cell_type": "code",
      "source": [
        "!pip install git+https://github.com/Labelbox/chatgpt_hackathon.git -q"
      ],
      "metadata": {
        "colab": {
          "base_uri": "https://localhost:8080/"
        },
        "id": "AQbb5PRzU5ls",
        "outputId": "06c823b8-4abb-4d36-dfe3-5cd737317de9"
      },
      "execution_count": null,
      "outputs": [
        {
          "output_type": "stream",
          "name": "stdout",
          "text": [
            "  Preparing metadata (setup.py) ... \u001b[?25l\u001b[?25hdone\n",
            "\u001b[2K     \u001b[90m━━━━━━━━━━━━━━━━━━━━━━━━━━━━━━━━━━━━━━━\u001b[0m \u001b[32m190.5/190.5 KB\u001b[0m \u001b[31m8.2 MB/s\u001b[0m eta \u001b[36m0:00:00\u001b[0m\n",
            "\u001b[2K     \u001b[90m━━━━━━━━━━━━━━━━━━━━━━━━━━━━━━━━━━━━━━━━\u001b[0m \u001b[32m70.1/70.1 KB\u001b[0m \u001b[31m1.5 MB/s\u001b[0m eta \u001b[36m0:00:00\u001b[0m\n",
            "\u001b[?25h  Preparing metadata (setup.py) ... \u001b[?25l\u001b[?25hdone\n",
            "\u001b[2K     \u001b[90m━━━━━━━━━━━━━━━━━━━━━━━━━━━━━━━━━━━━━━━━\u001b[0m \u001b[32m7.8/7.8 MB\u001b[0m \u001b[31m72.3 MB/s\u001b[0m eta \u001b[36m0:00:00\u001b[0m\n",
            "\u001b[?25h  Building wheel for chatgpt-hackathon (setup.py) ... \u001b[?25l\u001b[?25hdone\n",
            "  Building wheel for pygeotile (setup.py) ... \u001b[?25l\u001b[?25hdone\n"
          ]
        }
      ]
    },
    {
      "cell_type": "code",
      "source": [
        "import labelbox as lb\n",
        "from chatgpt_hackathon import create_iteration"
      ],
      "metadata": {
        "id": "Xq9DIswYbhan"
      },
      "execution_count": null,
      "outputs": []
    },
    {
      "cell_type": "markdown",
      "source": [
        "Provide a Labelbox API Key, your Team Name and which training round this is\n",
        "- Training round must be string value `\"1\"`, `\"2\"` or `\"3\"`\n",
        "- Training round 1 is limited to 2000 data rows\n",
        "- Training round 2 is limited to 4000 data rows\n",
        "- Training round 3 is limited to 6000 data rows\n",
        "\n",
        "[Here's how to create a Labelbox API key from your Labelbox account](https://docs.labelbox.com/reference/create-api-key)"
      ],
      "metadata": {
        "id": "q1RqIE3vVGze"
      }
    },
    {
      "cell_type": "code",
      "source": [
        "api_key = \"\"\n",
        "team_name = \"\"\n",
        "training_round = \"\""
      ],
      "metadata": {
        "id": "phWxloUDb6O8"
      },
      "execution_count": null,
      "outputs": []
    },
    {
      "cell_type": "markdown",
      "source": [
        "Configure your API key"
      ],
      "metadata": {
        "id": "f2dw719OYxjr"
      }
    },
    {
      "cell_type": "code",
      "source": [
        "client = lb.Client(api_key)"
      ],
      "metadata": {
        "id": "b8h2pOpnYqlt"
      },
      "execution_count": null,
      "outputs": []
    },
    {
      "cell_type": "markdown",
      "source": [
        "Create your Model Run!"
      ],
      "metadata": {
        "id": "AVmBHw7DYyVV"
      }
    },
    {
      "cell_type": "code",
      "source": [
        "model_run = create_iteration(client, team_name, training_round)"
      ],
      "metadata": {
        "colab": {
          "base_uri": "https://localhost:8080/"
        },
        "id": "khiltdS0-9xj",
        "outputId": "69f3e4fe-e441-40e9-9144-b01037e217f2"
      },
      "execution_count": null,
      "outputs": [
        {
          "output_type": "stream",
          "name": "stdout",
          "text": [
            "Created model run for round 1 for team 'team-raphael'\n",
            "Adding labels to model run...\n",
            "Success: Labels added to model run\n"
          ]
        }
      ]
    }
  ]
}
