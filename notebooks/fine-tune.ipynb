{
  "nbformat": 4,
  "nbformat_minor": 0,
  "metadata": {
    "colab": {
      "provenance": []
    },
    "kernelspec": {
      "name": "python3",
      "display_name": "Python 3"
    },
    "language_info": {
      "name": "python"
    }
  },
  "cells": [
    {
      "cell_type": "markdown",
      "source": [
        "<td>\n",
        "   <a target=\"_blank\" href=\"https://labelbox.com\" ><img src=\"https://labelbox.com/blog/content/images/2021/02/logo-v4.svg\" width=256/></a>\n",
        "</td>"
      ],
      "metadata": {
        "id": "tkWMqQEH5xcV"
      }
    },
    {
      "cell_type": "markdown",
      "source": [
        "<td>\n",
        "<a href=\"https://colab.research.google.com/drive/1Vg-D0b3Jif8oBW4LF4ksVdnLA4JpshfP\" target=\"_blank\"><img\n",
        "src=\"https://colab.research.google.com/assets/colab-badge.svg\" alt=\"Open In Colab\"></a>\n",
        "</td>\n",
        "\n",
        "<td>\n",
        "<a href=\"https://github.com/Labelbox/chatgpt_hackathon/blob/main/notebooks/fine-tune.ipynb\" target=\"_blank\"><img\n",
        "src=\"https://img.shields.io/badge/GitHub-100000?logo=github&logoColor=white\" alt=\"GitHub\"></a>\n",
        "</td>"
      ],
      "metadata": {
        "id": "xdD0ve3n5ydK"
      }
    },
    {
      "cell_type": "markdown",
      "source": [
        "# _**Fine Tune ChatGPT for Notre Dame <> Labelbox ChatGPT Hackathon**_"
      ],
      "metadata": {
        "id": "88joE7y850n0"
      }
    },
    {
      "cell_type": "markdown",
      "source": [
        "Install Hackathon Python Library"
      ],
      "metadata": {
        "id": "4Af9s1Jg5z1P"
      }
    },
    {
      "cell_type": "code",
      "execution_count": null,
      "metadata": {
        "colab": {
          "base_uri": "https://localhost:8080/"
        },
        "id": "dM6lKjnVfXvR",
        "outputId": "ef6e3ca7-368c-424f-c401-1e3333a56416"
      },
      "outputs": [
        {
          "output_type": "stream",
          "name": "stdout",
          "text": [
            "  Preparing metadata (setup.py) ... \u001b[?25l\u001b[?25hdone\n",
            "\u001b[2K     \u001b[90m━━━━━━━━━━━━━━━━━━━━━━━━━━━━━━━━━━━━━━━\u001b[0m \u001b[32m190.5/190.5 KB\u001b[0m \u001b[31m2.2 MB/s\u001b[0m eta \u001b[36m0:00:00\u001b[0m\n",
            "\u001b[2K     \u001b[90m━━━━━━━━━━━━━━━━━━━━━━━━━━━━━━━━━━━━━━━━\u001b[0m \u001b[32m70.1/70.1 KB\u001b[0m \u001b[31m2.2 MB/s\u001b[0m eta \u001b[36m0:00:00\u001b[0m\n",
            "\u001b[?25h  Preparing metadata (setup.py) ... \u001b[?25l\u001b[?25hdone\n",
            "\u001b[2K     \u001b[90m━━━━━━━━━━━━━━━━━━━━━━━━━━━━━━━━━━━━━━━━\u001b[0m \u001b[32m7.8/7.8 MB\u001b[0m \u001b[31m47.3 MB/s\u001b[0m eta \u001b[36m0:00:00\u001b[0m\n",
            "\u001b[?25h  Building wheel for chatgpt-hackathon (setup.py) ... \u001b[?25l\u001b[?25hdone\n",
            "  Building wheel for pygeotile (setup.py) ... \u001b[?25l\u001b[?25hdone\n"
          ]
        }
      ],
      "source": [
        "!pip install git+https://github.com/Labelbox/chatgpt_hackathon.git -q"
      ]
    },
    {
      "cell_type": "code",
      "source": [
        "import labelbox as lb\n",
        "from chatgpt_hackathon import initiate_fine_tuning, monitor_training, create_predictions"
      ],
      "metadata": {
        "id": "hBuu1lbtfcvM"
      },
      "execution_count": null,
      "outputs": []
    },
    {
      "cell_type": "markdown",
      "source": [
        "Provide a Labelbox API Key, your Team Name, and Training Round\n",
        "\n",
        "[Here's how to create a Labelbox API key from your Labelbox account](https://docs.labelbox.com/reference/create-api-key)"
      ],
      "metadata": {
        "id": "v2NBWi5o6A-r"
      }
    },
    {
      "cell_type": "code",
      "source": [
        "api_key = \"\"\n",
        "team_name = \"\"\n",
        "training_round = \"\""
      ],
      "metadata": {
        "id": "gt5o7QuAfdro"
      },
      "execution_count": null,
      "outputs": []
    },
    {
      "cell_type": "code",
      "source": [
        "client = lb.Client(api_key, enable_experimental=True)"
      ],
      "metadata": {
        "id": "P4yi1RfJo7pT"
      },
      "execution_count": null,
      "outputs": []
    },
    {
      "cell_type": "markdown",
      "source": [
        "Submit training data to OpenAI and initiate a training job"
      ],
      "metadata": {
        "id": "ebOdMbv26R50"
      }
    },
    {
      "cell_type": "code",
      "source": [
        "fine_tune_job_id = initiate_fine_tuning(api_key, client, team_name, training_round)"
      ],
      "metadata": {
        "colab": {
          "base_uri": "https://localhost:8080/"
        },
        "id": "bEhktXPdtdQ4",
        "outputId": "31a266e4-823e-4334-9b11-27993ab699ad"
      },
      "execution_count": null,
      "outputs": [
        {
          "output_type": "stream",
          "name": "stdout",
          "text": [
            "Exporting labels...\n",
            "Export complete - 2000 labels\n",
            "Creating training file...\n"
          ]
        },
        {
          "output_type": "stream",
          "name": "stderr",
          "text": [
            "100%|██████████| 2000/2000 [01:26<00:00, 23.05it/s]\n"
          ]
        },
        {
          "output_type": "stream",
          "name": "stdout",
          "text": [
            "Success: Created OpenAI training file with name `completions.jsonl`\n",
            "Connecting with OpenAI...\n",
            "Success: Connected with OpenAI\n",
            "Fine-tune Job with ID `ft-PJolCLy4iW8vgYH1QjxlOvsE` initiated\n"
          ]
        }
      ]
    },
    {
      "cell_type": "markdown",
      "source": [
        "Monitor Training Status"
      ],
      "metadata": {
        "id": "LCwXRNqhEE33"
      }
    },
    {
      "cell_type": "code",
      "source": [
        "chatgpt_model_name = monitor_training(api_key, fine_tune_job_id)"
      ],
      "metadata": {
        "colab": {
          "base_uri": "https://localhost:8080/"
        },
        "id": "KUbbsXyWEGlZ",
        "outputId": "c9875a20-9002-4047-e10f-2166cc610de1"
      },
      "execution_count": null,
      "outputs": [
        {
          "output_type": "stream",
          "name": "stdout",
          "text": [
            "Connecting with OpenAI...\n",
            "Success: Connected with OpenAI\n",
            "22:59:07 - Model training complete\n",
            "ChatGPT Model Name: `ada:ft-labelbox-2023-03-02-03-52-40` -- save this for hackaton submission\n"
          ]
        }
      ]
    },
    {
      "cell_type": "markdown",
      "source": [
        "Upload your training file to OpenAI, Initiate Training, Create Predictions and Upload to Labelbox"
      ],
      "metadata": {
        "id": "JI-3P4ag6XBQ"
      }
    },
    {
      "cell_type": "code",
      "source": [
        "results = create_predictions(api_key, client, team_name, training_round, chatgpt_model_name)"
      ],
      "metadata": {
        "colab": {
          "base_uri": "https://localhost:8080/"
        },
        "id": "PK0IG1ptqQ0H",
        "outputId": "7a3c305c-ca1a-4b6a-ac7a-7e7ea10eeb3d"
      },
      "execution_count": null,
      "outputs": [
        {
          "output_type": "stream",
          "name": "stdout",
          "text": [
            "Connecting with OpenAI...\n",
            "Success: Connected with OpenAI\n",
            "Exporting labels...\n",
            "Export complete - 2000 labels\n",
            "Creating predictions...\n"
          ]
        },
        {
          "output_type": "stream",
          "name": "stderr",
          "text": [
            "100%|██████████| 2000/2000 [00:52<00:00, 38.15it/s]\n"
          ]
        },
        {
          "output_type": "stream",
          "name": "stdout",
          "text": [
            "Success: Predictions generated\n",
            "Uploading predictions to Labelbox...\n",
            "Success: Predictions uploaded to model run\n"
          ]
        }
      ]
    }
  ]
}
